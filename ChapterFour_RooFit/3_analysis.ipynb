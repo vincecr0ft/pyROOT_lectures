{
 "cells": [
  {
   "cell_type": "code",
   "execution_count": 1,
   "metadata": {},
   "outputs": [
    {
     "name": "stdout",
     "output_type": "stream",
     "text": [
      "Welcome to JupyROOT 6.12/06\n"
     ]
    }
   ],
   "source": [
    "import ROOT"
   ]
  },
  {
   "cell_type": "markdown",
   "metadata": {},
   "source": [
    "#### Open MonteCarlo files\n",
    "\n",
    "These files were generated using `Madgraph5_aMC@NLO` showered with `Pythia8` and simulated with `Delphes`.\n",
    "\n",
    "This sounds very complicated but with a nominal setup of mg5 from [here](https://launchpad.net/mg5amcnlo), taking a moment to run `install pythia8` and `install Delphes`, and running the following commands will produce similar events."
   ]
  },
  {
   "cell_type": "markdown",
   "metadata": {},
   "source": [
    "```\n",
    "import model heft\n",
    "\n",
    "generate p p > h, h > a a\n",
    "output Hgg_RUN\n",
    "launch Hgg_RUN\n",
    "generate p p > a a / h \n",
    "output HggBackground_RUN\n",
    "launch HggBackground_RUN\n",
    "```"
   ]
  },
  {
   "cell_type": "markdown",
   "metadata": {},
   "source": [
    "To further simplify matters however the resulting root files are slimmed of most of their branches (Taus, FatJets etc) such that the few branches that remain don't need any additional classes to read. Additional information can be found [here](https://twiki.cern.ch/twiki/bin/view/Main/UnitsHiggsTutorial2016)"
   ]
  },
  {
   "cell_type": "code",
   "execution_count": 2,
   "metadata": {
    "collapsed": true
   },
   "outputs": [],
   "source": [
    "sig_file = ROOT.TFile.Open(\"HggSignal.root\")\n",
    "signal_tree = sig_file.Get(\"Tree\")\n",
    "bkg_file = ROOT.TFile.Open(\"HggBackground.root\")\n",
    "background_tree = bkg_file.Get(\"Tree\")"
   ]
  },
  {
   "cell_type": "code",
   "execution_count": 3,
   "metadata": {
    "collapsed": true
   },
   "outputs": [],
   "source": [
    "lumi = 25000"
   ]
  },
  {
   "cell_type": "markdown",
   "metadata": {},
   "source": [
    "#### Define Histograms"
   ]
  },
  {
   "cell_type": "code",
   "execution_count": 4,
   "metadata": {},
   "outputs": [],
   "source": [
    "mgg = ROOT.TH1F(\"mgg\",\"di photon mass\",60,100,160)\n",
    "mgg_background = ROOT.TH1F(\"mgg_background\",\"background di photon mass\",60,100,160)"
   ]
  },
  {
   "cell_type": "markdown",
   "metadata": {},
   "source": [
    "#### Define an Event Selection\n",
    "\n",
    "for each tree we assert that there must be at least two photons, no leptons and the scalar sum of objects in the region must be larger than 100 GeV\n",
    "\n",
    "further more we assert that the highest $p_\\mathrm{T}$ photon has at least 40 GeV of transverse energy and the next highest 30 GeV.\n",
    "\n",
    "The isolation variable shows how far the energy clusters of the photon candidate are distributed about the mean. "
   ]
  },
  {
   "cell_type": "code",
   "execution_count": 5,
   "metadata": {
    "collapsed": true
   },
   "outputs": [],
   "source": [
    "def apply_cuts(tree, histogram):\n",
    "    for event in tree:\n",
    "        if event.n_photons >1 and event.n_leptons < 1:# and event.ht > 0.:\n",
    "            lead = ROOT.TLorentzVector(event.gamma_lead_pt,event.gamma_lead_eta,event.gamma_lead_phi,0.)\n",
    "            sublead = ROOT.TLorentzVector(event.gamma_sublead_pt,event.gamma_sublead_eta,event.gamma_sublead_phi,0.)\n",
    "            di_photon = lead + sublead        \n",
    "            if lead.Pt()> 40 and sublead.Pt()>30 and event.lead_isolation < 0.04 and event.sublead_isolation < 0.04:\n",
    "                histogram.Fill(abs(di_photon.M()),event.weight*lumi)\n",
    "    return histogram"
   ]
  },
  {
   "cell_type": "code",
   "execution_count": 6,
   "metadata": {},
   "outputs": [
    {
     "data": {
      "image/png": "[encoded data removed]",
      "text/plain": [
       "<IPython.core.display.Image object>"
      ]
     },
     "metadata": {},
     "output_type": "display_data"
    }
   ],
   "source": [
    "mgg = apply_cuts(signal_tree, mgg)\n",
    "c1 = ROOT.TCanvas()\n",
    "mgg.Draw()\n",
    "c1.Draw()"
   ]
  },
  {
   "cell_type": "markdown",
   "metadata": {},
   "source": [
    "As can be seen, the application of cuts convolutes the shape of the distribution and the number of events produced by the MonteCarlo can have a large effect on the overall uncertainty"
   ]
  },
  {
   "cell_type": "code",
   "execution_count": 7,
   "metadata": {},
   "outputs": [
    {
     "name": "stdout",
     "output_type": "stream",
     "text": [
      " FCN=74.0656 FROM MIGRAD    STATUS=CONVERGED      60 CALLS          61 TOTAL\n",
      "                     EDM=3.62822e-09    STRATEGY= 1      ERROR MATRIX ACCURATE \n",
      "  EXT PARAMETER                                   STEP         FIRST   \n",
      "  NO.   NAME      VALUE            ERROR          SIZE      DERIVATIVE \n",
      "   1  Constant     9.14752e+00   5.71615e-02   3.20654e-05  -6.86412e-03\n",
      "   2  Slope       -2.41771e-02   4.60612e-04   2.58387e-07  -6.97871e-01\n"
     ]
    },
    {
     "data": {
      "image/png": "[encoded data removed]",
      "text/plain": [
       "<IPython.core.display.Image object>"
      ]
     },
     "metadata": {},
     "output_type": "display_data"
    }
   ],
   "source": [
    "mgg_background = apply_cuts(background_tree, mgg_background)\n",
    "c1 = ROOT.TCanvas()\n",
    "mgg_background.Draw()\n",
    "fitResultPtr = mgg_background.Fit(\"expo\",\"S\")\n",
    "c1.Draw()"
   ]
  },
  {
   "cell_type": "markdown",
   "metadata": {},
   "source": [
    "#### Validate the background shape\n",
    "\n",
    "In the above stage we assert that the background distribution form a exponential distribution.\n",
    "\n",
    "We now validate (by eye) that the binning and distribution are sufficient for our needs. \n",
    "\n",
    "In this case we scale the signal histogram by 5 to make it more visible. "
   ]
  },
  {
   "cell_type": "code",
   "execution_count": 8,
   "metadata": {},
   "outputs": [
    {
     "data": {
      "image/png": "[encoded data removed]",
      "text/plain": [
       "<IPython.core.display.Image object>"
      ]
     },
     "metadata": {},
     "output_type": "display_data"
    }
   ],
   "source": [
    "ROOT.gStyle.SetOptStat(0)\n",
    "mgg.SetFillColor(2)\n",
    "mgg.SetStats(0)\n",
    "mgg.Scale(5)\n",
    "mgg_background.SetFillColor(4)\n",
    "mgg_background.SetStats(0)\n",
    "leg = ROOT.TLegend(0.5,0.6,0.9,0.9)\n",
    "leg.AddEntry(mgg,\"{:.2f} Higgs Signal Events\".format(mgg.Integral()))\n",
    "leg.AddEntry(mgg_background,\"{:.2f} Background Events\".format(mgg_background.Integral()))\n",
    "stack = ROOT.THStack()\n",
    "stack.Add(mgg_background)\n",
    "stack.Add(mgg)\n",
    "stack.Draw(\"HIST\")\n",
    "mgg_background.Draw(\"same\")\n",
    "leg.Draw()\n",
    "stack.GetXaxis().SetTitle(\"Mass (GeV)\")\n",
    "stack.GetYaxis().SetTitle(\"Events per GeV\")\n",
    "c1.Draw()"
   ]
  },
  {
   "cell_type": "markdown",
   "metadata": {},
   "source": [
    "#### Prepare Workspace\n",
    "\n",
    "First we convert the histograms into histogram pdf objects. \n",
    "\n",
    "Our range is the Mass range plotted above."
   ]
  },
  {
   "cell_type": "code",
   "execution_count": 9,
   "metadata": {},
   "outputs": [
    {
     "name": "stdout",
     "output_type": "stream",
     "text": [
      "\n",
      "\u001b[1mRooFit v3.60 -- Developed by Wouter Verkerke and David Kirkby\u001b[0m \n",
      "                Copyright (C) 2000-2013 NIKHEF, University of California & Stanford University\n",
      "                All rights reserved, please read http://roofit.sourceforge.net/license.txt\n",
      "\n"
     ]
    }
   ],
   "source": [
    "x = ROOT.RooRealVar(\"x\",\"x\",100,160)\n",
    "l = ROOT.RooArgList(x)"
   ]
  },
  {
   "cell_type": "code",
   "execution_count": 10,
   "metadata": {},
   "outputs": [
    {
     "name": "stdout",
     "output_type": "stream",
     "text": [
      "[#1] INFO:DataHandling -- RooDataHist::adjustBinning(sighist): fit range of variable x expanded to nearest bin boundaries: [100,160] --> [100,160]\n",
      "[#1] INFO:DataHandling -- RooDataHist::adjustBinning(bkghist): fit range of variable x expanded to nearest bin boundaries: [100,160] --> [100,160]\n"
     ]
    }
   ],
   "source": [
    "signalhist = ROOT.RooDataHist(\"sighist\", \"sighist\", l, mgg)\n",
    "sigpdf = ROOT.RooHistPdf(\"sigpdf\",\"sigpdf\",ROOT.RooArgSet(x),signalhist,0)\n",
    "bkghist = ROOT.RooDataHist(\"bkghist\", \"bkghist\", l, mgg_background)\n",
    "bkgpdf = ROOT.RooHistPdf(\"bkgpdf\",\"bkgpdf\",ROOT.RooArgSet(x),bkghist,0)"
   ]
  },
  {
   "cell_type": "code",
   "execution_count": 11,
   "metadata": {},
   "outputs": [
    {
     "name": "stdout",
     "output_type": "stream",
     "text": [
      "0.0327285539026\n"
     ]
    }
   ],
   "source": [
    "fsig = mgg.Integral()/(mgg.Integral()+mgg_background.Integral())\n",
    "print fsig"
   ]
  },
  {
   "cell_type": "markdown",
   "metadata": {},
   "source": [
    "#### Create a composite model signal+background (gauss+bkg)"
   ]
  },
  {
   "cell_type": "code",
   "execution_count": 12,
   "metadata": {
    "collapsed": true
   },
   "outputs": [],
   "source": [
    "mean = ROOT.RooRealVar(\"mean\",\"Mean of Gaussian\",120,100,160)\n",
    "sigma = ROOT.RooRealVar(\"sigma\",\"Width of Gaussian\",5,0,10)\n",
    "hgammagamma = ROOT.RooGaussian(\"Hgammagamma\",\"Gaussian with mean\",x,mean,sigma)"
   ]
  },
  {
   "cell_type": "code",
   "execution_count": 13,
   "metadata": {},
   "outputs": [
    {
     "data": {
      "text/plain": [
       "<ROOT.RooFitResult object at 0x(nil)>"
      ]
     },
     "execution_count": 13,
     "metadata": {},
     "output_type": "execute_result"
    },
    {
     "name": "stdout",
     "output_type": "stream",
     "text": [
      "[#0] WARNING:InputArguments -- RooAbsPdf::fitTo(Hgammagamma) WARNING: a likelihood fit is request of what appears to be weighted data. \n",
      "       While the estimated values of the parameters will always be calculated taking the weights into account, \n",
      "       there are multiple ways to estimate the errors on these parameter values. You are advised to make an \n",
      "       explicit choice on the error calculation: \n",
      "           - Either provide SumW2Error(kTRUE), to calculate a sum-of-weights corrected HESSE error matrix \n",
      "             (error will be proportional to the number of events)\n",
      "           - Or provide SumW2Error(kFALSE), to return errors from original HESSE error matrix\n",
      "             (which will be proportional to the sum of the weights)\n",
      "       If you want the errors to reflect the information contained in the provided dataset, choose kTRUE. \n",
      "       If you want the errors to reflect the precision you would be able to obtain with an unweighted dataset \n",
      "       with 'sum-of-weights' events, choose kFALSE.\n",
      "[#1] INFO:Eval -- RooRealVar::setRange(x) new range named 'fit' created with bounds [118,132]\n",
      "[#1] INFO:Fitting -- RooAbsOptTestStatistic::ctor(nll_Hgammagamma_sighist) constructing test statistic for sub-range named fit\n",
      "[#1] INFO:Eval -- RooRealVar::setRange(x) new range named 'NormalizationRangeForfit' created with bounds [100,160]\n",
      "[#1] INFO:Eval -- RooRealVar::setRange(x) new range named 'fit_nll_Hgammagamma_sighist' created with bounds [118,132]\n",
      "[#1] INFO:Fitting -- RooAbsOptTestStatistic::ctor(nll_Hgammagamma_sighist) fixing interpretation of coefficients of any RooAddPdf to full domain of observables \n",
      "[#1] INFO:Minization -- RooMinimizer::optimizeConst: activating const optimization\n",
      "[#1] INFO:Minization -- RooMinimizer::optimizeConst: deactivating const optimization\n"
     ]
    }
   ],
   "source": [
    "hgammagamma.fitTo(signalhist,ROOT.RooFit.Range(118,132),ROOT.RooFit.PrintLevel(-1))"
   ]
  },
  {
   "cell_type": "code",
   "execution_count": 14,
   "metadata": {},
   "outputs": [
    {
     "name": "stdout",
     "output_type": "stream",
     "text": [
      "[#1] INFO:InputArguments -- RooAbsData::plotOn(sighist) INFO: dataset has non-integer weights, auto-selecting SumW2 errors instead of Poisson errors\n",
      "[#1] INFO:Plotting -- RooAbsPdf::plotOn(Hgammagamma) p.d.f was fitted in range and no explicit plot,norm range was specified, using fit range as default\n",
      "[#1] INFO:Plotting -- RooAbsPdf::plotOn(Hgammagamma) only plotting range 'fit_nll_Hgammagamma_sighist'\n",
      "[#1] INFO:Plotting -- RooAbsPdf::plotOn(Hgammagamma) p.d.f. curve is normalized using explicit choice of ranges 'fit_nll_Hgammagamma_sighist'\n"
     ]
    },
    {
     "data": {
      "image/png": "[encoded data removed]",
      "text/plain": [
       "<IPython.core.display.Image object>"
      ]
     },
     "metadata": {},
     "output_type": "display_data"
    }
   ],
   "source": [
    "c = ROOT.TCanvas()\n",
    "plot = x.frame(ROOT.RooFit.Title(\"Signal Mass\"))\n",
    "plot.SetTitle(\"\")\n",
    "plot.GetYaxis().SetTitleOffset(1.)\n",
    "plot.GetYaxis().SetTitleSize(0.05)\n",
    "plot.GetXaxis().SetTitleSize(0.05)\n",
    "plot.GetXaxis().SetTitleOffset(.6)\n",
    "plot.SetXTitle(r\"$m_{\\gamma\\gamma}$ (GeV)\")\n",
    "signalhist.plotOn(plot,ROOT.RooFit.Name(\"data\"))\n",
    "hgammagamma.plotOn(plot,ROOT.RooFit.Name(\"hgg\"))\n",
    "\n",
    "l = ROOT.TLegend( 0.5, 0.6, 0.9, 0.9)\n",
    "dataobj = plot.findObject(\"data\")\n",
    "hobj = plot.findObject(\"hgg\")\n",
    "\n",
    "l.AddEntry( dataobj , \"MC Data\", \"pl\" )\n",
    "l.AddEntry( hobj , \"{0:0.0f}GeV Higgs mass \".format(mean.getVal()), \"l\"  )\n",
    "l.SetTextSizePixels(400)\n",
    "plot.Draw()\n",
    "l.Draw()\n",
    "c.Draw()"
   ]
  },
  {
   "cell_type": "code",
   "execution_count": 15,
   "metadata": {},
   "outputs": [
    {
     "data": {
      "text/plain": [
       "5.662231686496792"
      ]
     },
     "execution_count": 15,
     "metadata": {},
     "output_type": "execute_result"
    }
   ],
   "source": [
    "sigma.getVal()"
   ]
  },
  {
   "cell_type": "markdown",
   "metadata": {},
   "source": [
    "##### and repeat for Background`"
   ]
  },
  {
   "cell_type": "code",
   "execution_count": 16,
   "metadata": {
    "collapsed": true
   },
   "outputs": [],
   "source": [
    "lamb = ROOT.RooRealVar(\"lambda\",\"Decay rate of exponential\",-1,-2,0)\n",
    "nonhiggs = ROOT.RooExponential(\"continuum\",\"Exponential\",x,lamb)"
   ]
  },
  {
   "cell_type": "code",
   "execution_count": 17,
   "metadata": {},
   "outputs": [
    {
     "data": {
      "text/plain": [
       "<ROOT.RooFitResult object at 0x(nil)>"
      ]
     },
     "execution_count": 17,
     "metadata": {},
     "output_type": "execute_result"
    },
    {
     "name": "stdout",
     "output_type": "stream",
     "text": [
      "[#0] WARNING:InputArguments -- RooAbsPdf::fitTo(continuum) WARNING: a likelihood fit is request of what appears to be weighted data. \n",
      "       While the estimated values of the parameters will always be calculated taking the weights into account, \n",
      "       there are multiple ways to estimate the errors on these parameter values. You are advised to make an \n",
      "       explicit choice on the error calculation: \n",
      "           - Either provide SumW2Error(kTRUE), to calculate a sum-of-weights corrected HESSE error matrix \n",
      "             (error will be proportional to the number of events)\n",
      "           - Or provide SumW2Error(kFALSE), to return errors from original HESSE error matrix\n",
      "             (which will be proportional to the sum of the weights)\n",
      "       If you want the errors to reflect the information contained in the provided dataset, choose kTRUE. \n",
      "       If you want the errors to reflect the precision you would be able to obtain with an unweighted dataset \n",
      "       with 'sum-of-weights' events, choose kFALSE.\n",
      "[#1] INFO:Fitting -- RooAbsOptTestStatistic::ctor(nll_continuum_bkghist) constructing test statistic for sub-range named fit\n",
      "[#1] INFO:Eval -- RooRealVar::setRange(x) new range named 'fit_nll_continuum_bkghist' created with bounds [100,160]\n",
      "[#1] INFO:Fitting -- RooAbsOptTestStatistic::ctor(nll_continuum_bkghist) fixing interpretation of coefficients of any RooAddPdf to full domain of observables \n",
      "[#1] INFO:Minization -- RooMinimizer::optimizeConst: activating const optimization\n",
      "[#1] INFO:Minization -- RooMinimizer::optimizeConst: deactivating const optimization\n"
     ]
    }
   ],
   "source": [
    "nonhiggs.fitTo(bkghist,ROOT.RooFit.Range(100,160),ROOT.RooFit.PrintLevel(-1))"
   ]
  },
  {
   "cell_type": "code",
   "execution_count": 18,
   "metadata": {},
   "outputs": [
    {
     "name": "stdout",
     "output_type": "stream",
     "text": [
      "[#1] INFO:InputArguments -- RooAbsData::plotOn(bkghist) INFO: dataset has non-integer weights, auto-selecting SumW2 errors instead of Poisson errors\n",
      "[#1] INFO:Plotting -- RooAbsPdf::plotOn(continuum) p.d.f was fitted in range and no explicit plot,norm range was specified, using fit range as default\n",
      "[#1] INFO:Plotting -- RooAbsPdf::plotOn(continuum) only plotting range 'fit_nll_continuum_bkghist'\n",
      "[#1] INFO:Plotting -- RooAbsPdf::plotOn(continuum) p.d.f. curve is normalized using explicit choice of ranges 'fit_nll_continuum_bkghist'\n"
     ]
    },
    {
     "data": {
      "image/png": "[encoded data removed]",
      "text/plain": [
       "<IPython.core.display.Image object>"
      ]
     },
     "metadata": {},
     "output_type": "display_data"
    }
   ],
   "source": [
    "c = ROOT.TCanvas()\n",
    "plot = x.frame(ROOT.RooFit.Title(\"Background Mass\"))\n",
    "plot.SetTitle(\"\")\n",
    "plot.GetYaxis().SetTitleOffset(1.)\n",
    "plot.GetYaxis().SetTitleSize(0.05)\n",
    "plot.GetXaxis().SetTitleSize(0.05)\n",
    "plot.GetXaxis().SetTitleOffset(.6)\n",
    "plot.SetXTitle(r\"$m_{\\gamma\\gamma}$ (GeV)\")\n",
    "bkghist.plotOn(plot,ROOT.RooFit.Name(\"data\"))\n",
    "nonhiggs.plotOn(plot,ROOT.RooFit.Name(\"QCD\"))\n",
    "\n",
    "l = ROOT.TLegend( 0.5, 0.6, 0.9, 0.9)\n",
    "dataobj = plot.findObject(\"data\")\n",
    "bobj = plot.findObject(\"QCD\")\n",
    "\n",
    "l.AddEntry( dataobj , \"MC Data\", \"pl\" )\n",
    "l.AddEntry( bobj , \"Background mass distribution\", \"l\"  )\n",
    "l.SetTextSizePixels(400)\n",
    "plot.Draw()\n",
    "l.Draw()\n",
    "c.Draw()"
   ]
  },
  {
   "cell_type": "markdown",
   "metadata": {},
   "source": [
    "#### and combine into a single model"
   ]
  },
  {
   "cell_type": "code",
   "execution_count": 19,
   "metadata": {
    "collapsed": true
   },
   "outputs": [],
   "source": [
    "fsig = ROOT.RooRealVar(\"fsig\",\"signal fraction\",fsig,0.,1.)\n",
    "\n",
    "model = ROOT.RooAddPdf(\"model\",\"model\",ROOT.RooArgList(hgammagamma,nonhiggs),ROOT.RooArgList(fsig))"
   ]
  },
  {
   "cell_type": "code",
   "execution_count": 20,
   "metadata": {},
   "outputs": [
    {
     "name": "stdout",
     "output_type": "stream",
     "text": [
      "[#1] INFO:Plotting -- RooAbsPdf::plotOn(model) directly selected PDF components: (continuum)\n",
      "[#1] INFO:Plotting -- RooAbsPdf::plotOn(model) indirectly selected PDF components: ()\n"
     ]
    },
    {
     "data": {
      "image/png": "[encoded data removed]",
      "text/plain": [
       "<IPython.core.display.Image object>"
      ]
     },
     "metadata": {},
     "output_type": "display_data"
    }
   ],
   "source": [
    "c1 = ROOT.TCanvas()\n",
    "xframe = x.frame(ROOT.RooFit.Title(\"Composite Model\"))\n",
    "model.plotOn(xframe)\n",
    "bkg_component = ROOT.RooArgSet(nonhiggs)\n",
    "model.plotOn(xframe,ROOT.RooFit.Components(bkg_component),ROOT.RooFit.LineStyle(2),ROOT.RooFit.LineColor(2))\n",
    "xframe.Draw()\n",
    "c1.Draw()"
   ]
  },
  {
   "cell_type": "markdown",
   "metadata": {},
   "source": [
    "#### and now import all the models into the workspace"
   ]
  },
  {
   "cell_type": "code",
   "execution_count": 21,
   "metadata": {
    "scrolled": true
   },
   "outputs": [
    {
     "data": {
      "text/plain": [
       "False"
      ]
     },
     "execution_count": 21,
     "metadata": {},
     "output_type": "execute_result"
    },
    {
     "name": "stdout",
     "output_type": "stream",
     "text": [
      "[#1] INFO:ObjectHandling -- RooWorkspace::import(w) importing dataset sighist\n",
      "[#1] INFO:ObjectHandling -- RooWorkspace::import(w) importing RooHistPdf::sigpdf\n",
      "[#1] INFO:ObjectHandling -- RooWorkspace::import(w) importing RooRealVar::x\n",
      "[#1] INFO:ObjectHandling -- RooWorkspace::import(w) importing dataset bkghist\n",
      "[#1] INFO:ObjectHandling -- RooWorkspace::import(w) importing RooHistPdf::bkgpdf\n",
      "[#1] INFO:ObjectHandling -- RooWorkspace::import(w) importing RooAddPdf::model\n",
      "[#1] INFO:ObjectHandling -- RooWorkspace::import(w) importing RooGaussian::Hgammagamma\n",
      "[#1] INFO:ObjectHandling -- RooWorkspace::import(w) importing RooRealVar::mean\n",
      "[#1] INFO:ObjectHandling -- RooWorkspace::import(w) importing RooRealVar::sigma\n",
      "[#1] INFO:ObjectHandling -- RooWorkspace::import(w) importing RooRealVar::fsig\n",
      "[#1] INFO:ObjectHandling -- RooWorkspace::import(w) importing RooExponential::continuum\n",
      "[#1] INFO:ObjectHandling -- RooWorkspace::import(w) importing RooRealVar::lambda\n"
     ]
    }
   ],
   "source": [
    "w = ROOT.RooWorkspace(\"w\")\n",
    "getattr(w,'import')(sigpdf)\n",
    "getattr(w,'import')(bkgpdf)\n",
    "getattr(w,'import')(model)"
   ]
  },
  {
   "cell_type": "markdown",
   "metadata": {},
   "source": [
    "#### generating data from model"
   ]
  },
  {
   "cell_type": "code",
   "execution_count": 22,
   "metadata": {
    "collapsed": true
   },
   "outputs": [],
   "source": [
    "datamodel = ROOT.RooAddPdf(\"datamodel\",\"datamodel\",ROOT.RooArgList(sigpdf,bkgpdf),ROOT.RooArgList(fsig))\n",
    "data = datamodel.generate(ROOT.RooArgSet(x),10000)"
   ]
  },
  {
   "cell_type": "code",
   "execution_count": 23,
   "metadata": {
    "scrolled": true
   },
   "outputs": [
    {
     "name": "stdout",
     "output_type": "stream",
     "text": [
      "[#1] INFO:Plotting -- RooAbsPdf::plotOn(model) directly selected PDF components: (continuum)\n",
      "[#1] INFO:Plotting -- RooAbsPdf::plotOn(model) indirectly selected PDF components: ()\n",
      "[#1] INFO:Plotting -- RooAbsPdf::plotOn(model) directly selected PDF components: (Hgammagamma)\n",
      "[#1] INFO:Plotting -- RooAbsPdf::plotOn(model) indirectly selected PDF components: ()\n"
     ]
    },
    {
     "data": {
      "image/png": "[encoded data removed]",
      "text/plain": [
       "<IPython.core.display.Image object>"
      ]
     },
     "metadata": {},
     "output_type": "display_data"
    }
   ],
   "source": [
    "c1 = ROOT.TCanvas()\n",
    "xframe = x.frame(ROOT.RooFit.Title(\"Composite Model\"))\n",
    "data.plotOn(xframe)\n",
    "model.plotOn(xframe)\n",
    "model.paramOn(xframe)\n",
    "bkg_component = ROOT.RooArgSet(nonhiggs)\n",
    "sig_component = ROOT.RooArgSet(hgammagamma)\n",
    "model.plotOn(xframe,ROOT.RooFit.Components(bkg_component),ROOT.RooFit.LineStyle(2))\n",
    "model.plotOn(xframe,ROOT.RooFit.Components(sig_component),ROOT.RooFit.LineColor(2))\n",
    "xframe.Draw()\n",
    "c1.Draw()"
   ]
  },
  {
   "cell_type": "code",
   "execution_count": 24,
   "metadata": {},
   "outputs": [
    {
     "data": {
      "text/plain": [
       "False"
      ]
     },
     "execution_count": 24,
     "metadata": {},
     "output_type": "execute_result"
    },
    {
     "name": "stdout",
     "output_type": "stream",
     "text": [
      "[#1] INFO:ObjectHandling -- RooWorkspace::import(w) importing dataset wu\n"
     ]
    }
   ],
   "source": [
    "getattr(w,'import')(data)"
   ]
  },
  {
   "cell_type": "markdown",
   "metadata": {},
   "source": [
    "#### Set the Model Configuration and Save"
   ]
  },
  {
   "cell_type": "code",
   "execution_count": 25,
   "metadata": {},
   "outputs": [
    {
     "data": {
      "text/plain": [
       "False"
      ]
     },
     "execution_count": 25,
     "metadata": {},
     "output_type": "execute_result"
    }
   ],
   "source": [
    "mc = ROOT.RooStats.ModelConfig(\"ModelConfig\",w)\n",
    "mc.SetPdf(model)\n",
    "mc.SetParametersOfInterest(ROOT.RooArgSet(w.var(\"fsig\")))\n",
    "mc.SetObservables(ROOT.RooArgSet(w.var(\"x\")))\n",
    "getattr(w,'import')(mc)"
   ]
  },
  {
   "cell_type": "code",
   "execution_count": 26,
   "metadata": {},
   "outputs": [
    {
     "data": {
      "text/plain": [
       "False"
      ]
     },
     "execution_count": 26,
     "metadata": {},
     "output_type": "execute_result"
    }
   ],
   "source": [
    "w.writeToFile(\"HgammagammaWS.root\",True)"
   ]
  },
  {
   "cell_type": "code",
   "execution_count": 27,
   "metadata": {
    "collapsed": true
   },
   "outputs": [],
   "source": [
    "### Background only "
   ]
  }
 ],
 "metadata": {
  "kernelspec": {
   "display_name": "Python 2",
   "language": "python",
   "name": "python2"
  },
  "language_info": {
   "codemirror_mode": {
    "name": "ipython",
    "version": 2
   },
   "file_extension": ".py",
   "mimetype": "text/x-python",
   "name": "python",
   "nbconvert_exporter": "python",
   "pygments_lexer": "ipython2",
   "version": "2.7.13"
  }
 },
 "nbformat": 4,
 "nbformat_minor": 2
}

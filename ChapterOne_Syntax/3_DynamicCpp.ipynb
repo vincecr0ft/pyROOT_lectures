{
 "cells": [
  {
   "cell_type": "code",
   "execution_count": 1,
   "metadata": {},
   "outputs": [
    {
     "name": "stdout",
     "output_type": "stream",
     "text": [
      "Welcome to JupyROOT 6.13/01\n"
     ]
    }
   ],
   "source": [
    "import ROOT"
   ]
  },
  {
   "cell_type": "markdown",
   "metadata": {},
   "source": [
    "# Dynamically Interpret C++ Code"
   ]
  },
  {
   "cell_type": "code",
   "execution_count": 2,
   "metadata": {},
   "outputs": [],
   "source": [
    "# Define a C++ function that counts the characters in a string\n",
    "cpp_function_code = \"\"\"\n",
    "int CountCharacters(const std::string& s)\n",
    "{\n",
    "   return s.size();\n",
    "}\n",
    "\"\"\""
   ]
  },
  {
   "cell_type": "code",
   "execution_count": 3,
   "metadata": {},
   "outputs": [
    {
     "name": "stdout",
     "output_type": "stream",
     "text": [
      "Number of characters: 57\n"
     ]
    }
   ],
   "source": [
    "# Make that function available to the ROOT interpreter in a Python module\n",
    "ROOT.gInterpreter.ProcessLine(cpp_function_code)\n",
    "\n",
    "# Invoke the function through PyROOT\n",
    "nchars = ROOT.CountCharacters(\"This interactivity without bindings is really impressive.\")\n",
    "\n",
    "print(\"Number of characters: \" + str(nchars))"
   ]
  }
 ],
 "metadata": {
  "kernelspec": {
   "display_name": "Python 2",
   "language": "python",
   "name": "python2"
  },
  "language_info": {
   "codemirror_mode": {
    "name": "ipython",
    "version": 2
   },
   "file_extension": ".py",
   "mimetype": "text/x-python",
   "name": "python",
   "nbconvert_exporter": "python",
   "pygments_lexer": "ipython2",
   "version": "2.7.13"
  }
 },
 "nbformat": 4,
 "nbformat_minor": 2
}

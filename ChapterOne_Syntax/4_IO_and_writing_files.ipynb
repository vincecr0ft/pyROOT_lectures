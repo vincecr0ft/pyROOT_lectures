{
 "cells": [
  {
   "cell_type": "markdown",
   "metadata": {},
   "source": [
    "# Writing on files\n",
    "This is a Python notebook in which you will practice the concepts learned during the lectures.\n",
    "\n",
    "## Startup ROOT\n",
    "Import the ROOT module: this will activate the integration layer with the notebook automatically"
   ]
  },
  {
   "cell_type": "code",
   "execution_count": null,
   "metadata": {
    "collapsed": true
   },
   "outputs": [],
   "source": [
    "import ROOT"
   ]
  },
  {
   "cell_type": "markdown",
   "metadata": {},
   "source": [
    "## Writing histograms\n",
    "Create a **TFile** containing three histograms filled with random numbers distributed according to a Gaus, an exponential and a uniform distribution.\n",
    "Close the file: you will reopen it later."
   ]
  },
  {
   "cell_type": "code",
   "execution_count": 2,
   "metadata": {
    "collapsed": true
   },
   "outputs": [],
   "source": [
    "# Your code here"
   ]
  },
  {
   "cell_type": "markdown",
   "metadata": {},
   "source": [
    "Now, you can invoke the *ls* command from within the notebook to list the files in this directory. Check that the file is there. You can invoke the *rootls* command to see what's inside the file. "
   ]
  },
  {
   "cell_type": "code",
   "execution_count": 3,
   "metadata": {
    "collapsed": true
   },
   "outputs": [],
   "source": [
    "# Your invocations here"
   ]
  },
  {
   "cell_type": "markdown",
   "metadata": {},
   "source": [
    "Access the histograms and draw them in Python. Remember that you need to create a TCanvas before and draw it too in order to inline the plots in the notebooks.\n",
    "You can switch to the interactive JavaScript visualisation using the *%jsroot on* \"magic\" command."
   ]
  },
  {
   "cell_type": "code",
   "execution_count": 4,
   "metadata": {
    "collapsed": true
   },
   "outputs": [],
   "source": [
    "# Your code here"
   ]
  },
  {
   "cell_type": "markdown",
   "metadata": {},
   "source": [
    "You can now repeat the exercise above using **C++**. Transform the cell in a **C++** cell using the *%%cpp* \"magic\"."
   ]
  },
  {
   "cell_type": "code",
   "execution_count": null,
   "metadata": {
    "collapsed": true
   },
   "outputs": [],
   "source": [
    "# Your code here"
   ]
  },
  {
   "cell_type": "markdown",
   "metadata": {},
   "source": [
    "## Inspect the content of the file: TXMLFile\n",
    "ROOT provides a different kind of **TFile**, **TXMLFile**. It has the same interface and it's very useful to better understand how objects are written in files by ROOT.\n",
    "Repeat the exercise above, either on Python or C++ - your choice, using a **TXMLFILE** rather than a **TFile** and then display its content with the *cat* command. Can you see how the content of the individual bins of the histograms is stored? And the colour of its markers?\n",
    "Do you understand why the xml file is bigger than the root one even if they have the same content?"
   ]
  },
  {
   "cell_type": "code",
   "execution_count": null,
   "metadata": {
    "collapsed": true
   },
   "outputs": [],
   "source": [
    "# Your invocations here"
   ]
  }
 ],
 "metadata": {
  "kernelspec": {
   "display_name": "Python 2",
   "language": "python",
   "name": "python2"
  },
  "language_info": {
   "codemirror_mode": {
    "name": "ipython",
    "version": 2
   },
   "file_extension": ".py",
   "mimetype": "text/x-python",
   "name": "python",
   "nbconvert_exporter": "python",
   "pygments_lexer": "ipython2",
   "version": "2.7.13"
  }
 },
 "nbformat": 4,
 "nbformat_minor": 2
}

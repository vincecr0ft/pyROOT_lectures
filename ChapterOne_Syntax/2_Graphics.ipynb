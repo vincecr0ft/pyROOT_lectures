{
 "cells": [
  {
   "cell_type": "markdown",
   "metadata": {},
   "source": [
    "# Graphics Exercises\n",
    "Welcome to the exercises of the **Graphics** learning module!\n",
    "\n",
    "## The \"Good Plot\" Example\n",
    "\n",
    "In this exercise, you will follow the steps of the \"Good Plot\" example that is described in the course slides. In particular, these are the steps to follow:\n",
    "\n",
    "Create the initial data set by placing the code below in a macro called macro1:\n",
    "```\n",
    "# The number of points in the data set\n",
    "n_points = 10\n",
    "# The values along X and Y axis\n",
    "x_vals = [1,2,3,4,5,6,7,8,9,10]\n",
    "y_vals = [6,12,14,20,22,24,35,45,44,53]\n",
    "# The errors on the Y axis\n",
    "y_errs = [5,5,4.7,4.5,4.2,5.1,2.9,4.1,4.8,5.43]\n",
    "```\n",
    "* Create a `TGraphErrors` instance using the aforementioned data.\n",
    "* Draw the graph data in an error bars plot. Play with the following draw options: *\"APE\", \"APEL\", \"APEC\", \"APE4\".*\n",
    "* Customize the visual aspect of the plot (marker style, marker color, line color).\n",
    "* Add a function to compare the data with a line. Use the formula \"*[0]+x*[1]*\". Set the parameters to -1 and 5. Play a little with the line style and color and draw the function in the same canvas as the graph.\n",
    "* Set the titles for the graph (\"*Measurement XYZ;length [cm];Arb.Units*\") and for the axis (\"*length [cm]*\" and \"*Arb.Units*\" for x and y). Try to add special latex characters.\n",
    "* Try to change the number of divisions of the x axis: set the number of primary divisions to 20 and check the result. Did you get that number of divisions?\n",
    "* Change the label of the x axis corresponding to the maximum deviation by setting its color to red.\n",
    "* Add a legend to the plot, with one entry for the graph and one for the function.\n",
    "* Add an arrow (`TArrow`) and some text (`TLatex`) to the canvas."
   ]
  },
  {
   "cell_type": "code",
   "execution_count": null,
   "metadata": {},
   "outputs": [],
   "source": [
    "# The number of points in the data set\n",
    "n_points = 10\n",
    "# The values along X and Y axis\n",
    "x_vals = [1,2,3,4,5,6,7,8,9,10]\n",
    "y_vals = [6,12,14,20,22,24,35,45,44,53]\n",
    "# The errors on the Y axis\n",
    "y_errs = [5,5,4.7,4.5,4.2,5.1,2.9,4.1,4.8,5.43]"
   ]
  }
 ],
 "metadata": {
  "kernelspec": {
   "display_name": "Python 2",
   "language": "python",
   "name": "python2"
  },
  "language_info": {
   "codemirror_mode": {
    "name": "ipython",
    "version": 2
   },
   "file_extension": ".py",
   "mimetype": "text/x-python",
   "name": "python",
   "nbconvert_exporter": "python",
   "pygments_lexer": "ipython2",
   "version": "2.7.13"
  }
 },
 "nbformat": 4,
 "nbformat_minor": 2
}

{
 "cells": [
  {
   "cell_type": "markdown",
   "metadata": {},
   "source": [
    "# TMVA  Reader Example \n",
    "\n",
    "#### Example of applying the trained classified of TMVA on a data set and evaluate the classifier\n",
    "\n",
    "The way that TMVA applies a trained classifier function is through us of weights stored in xml format. These can be read and applied to any other dataset.\n",
    "\n",
    "\n",
    "author: [Lorenzo Moneta](https://github.com/lmoneta/tmva-tutorial)"
   ]
  },
  {
   "cell_type": "code",
   "execution_count": 1,
   "metadata": {},
   "outputs": [
    {
     "name": "stdout",
     "output_type": "stream",
     "text": [
      "Welcome to JupyROOT 6.15/01\n"
     ]
    }
   ],
   "source": [
    "import ROOT\n",
    "from ROOT import TMVA"
   ]
  },
  {
   "cell_type": "code",
   "execution_count": 2,
   "metadata": {},
   "outputs": [],
   "source": [
    "##%jsroot on"
   ]
  },
  {
   "cell_type": "code",
   "execution_count": 3,
   "metadata": {},
   "outputs": [],
   "source": [
    "import os\n",
    "os.environ[\"KERAS_BACKEND\"] = \"tensorflow\""
   ]
  },
  {
   "cell_type": "markdown",
   "metadata": {},
   "source": [
    "### Choose TMVA method to evaluate"
   ]
  },
  {
   "cell_type": "code",
   "execution_count": 4,
   "metadata": {},
   "outputs": [],
   "source": [
    "methodNames = [\"BDT\",\"DL_CPU\",\"Keras_Dense\",\"PyGTB\"]"
   ]
  },
  {
   "cell_type": "markdown",
   "metadata": {},
   "source": [
    "###  Give input file \n"
   ]
  },
  {
   "cell_type": "code",
   "execution_count": 5,
   "metadata": {},
   "outputs": [],
   "source": [
    "inputFile = ROOT.TFile(\"Higgs_data.root\")"
   ]
  },
  {
   "cell_type": "code",
   "execution_count": 6,
   "metadata": {},
   "outputs": [
    {
     "name": "stdout",
     "output_type": "stream",
     "text": [
      "TFile**\t\tHiggs_data.root\t\n",
      " TFile*\t\tHiggs_data.root\t\n",
      "  KEY: TTree\tsig_tree;1\tSignal Tree\n",
      "  KEY: TTree\tbkg_tree;1\tBackground Tree\n"
     ]
    }
   ],
   "source": [
    "inputFile.ls()\n",
    "#inputFile.sig_tree.Print()"
   ]
  },
  {
   "cell_type": "markdown",
   "metadata": {},
   "source": [
    "### Declare Reader\n"
   ]
  },
  {
   "cell_type": "code",
   "execution_count": 7,
   "metadata": {},
   "outputs": [],
   "source": [
    "TMVA.Tools.Instance()\n",
    "TMVA.PyMethodBase.PyInitialize();\n",
    "\n",
    "reader = TMVA.Reader( \"!Color:!Silent\" )\n"
   ]
  },
  {
   "cell_type": "markdown",
   "metadata": {},
   "source": [
    "### Add Variable\n",
    "\n",
    "We add variables to the reader exactly in the same way we did for the **DataLoader** during the training\n",
    "\n",
    "We need to specify the address of the variable in order to pass it to TMVA when we iterate on the TTree\n"
   ]
  },
  {
   "cell_type": "code",
   "execution_count": 8,
   "metadata": {},
   "outputs": [],
   "source": [
    "from array import array\n",
    "m_jj = array('f',[0])\n",
    "m_jjj = array('f',[0])\n",
    "m_lv = array('f',[0])\n",
    "m_jlv = array('f',[0])\n",
    "m_bb = array('f',[0])\n",
    "m_wbb = array('f',[0])\n",
    "m_wwbb = array('f',[0])"
   ]
  },
  {
   "cell_type": "code",
   "execution_count": 9,
   "metadata": {},
   "outputs": [],
   "source": [
    "#add variables \n",
    "reader.AddVariable(\"m_jj\",m_jj)\n",
    "reader.AddVariable(\"m_jjj\",m_jjj)\n",
    "reader.AddVariable(\"m_lv\",m_lv)\n",
    "reader.AddVariable(\"m_jlv\",m_jlv)\n",
    "reader.AddVariable(\"m_bb\",m_bb)\n",
    "reader.AddVariable(\"m_wbb\",m_wbb)\n",
    "reader.AddVariable(\"m_wwbb\",m_wwbb)\n"
   ]
  },
  {
   "cell_type": "markdown",
   "metadata": {},
   "source": [
    "## Setup Classifiers\n",
    "\n",
    "We set up the classifiers by reading the input weights from the appropriate files\n",
    "\n",
    "The file is stored for example as \n",
    "\n",
    "####  *dataset/weights/TMVAClassification_BDT.weights.xml"
   ]
  },
  {
   "cell_type": "code",
   "execution_count": 10,
   "metadata": {},
   "outputs": [
    {
     "name": "stderr",
     "output_type": "stream",
     "text": [
      "Using TensorFlow backend.\n"
     ]
    },
    {
     "name": "stdout",
     "output_type": "stream",
     "text": [
      "                         : Booking \"BDT\" of type \"BDT\" from dataset/weights/TMVA_Higgs_Classification_BDT.weights.xml.\n",
      "                         : Reading weight file: dataset/weights/TMVA_Higgs_Classification_BDT.weights.xml\n",
      "<HEADER> DataSetInfo              : [Default] : Added class \"Signal\"\n",
      "<HEADER> DataSetInfo              : [Default] : Added class \"Background\"\n",
      "                         : Booked classifier \"BDT\" of type: \"BDT\"\n",
      "                         : Booking \"DL_CPU\" of type \"DL\" from dataset/weights/TMVA_Higgs_Classification_DL_CPU.weights.xml.\n",
      "                         : Reading weight file: dataset/weights/TMVA_Higgs_Classification_DL_CPU.weights.xml\n",
      "                         : Booked classifier \"DL_CPU\" of type: \"DL\"\n",
      "                         : Booking \"Keras_Dense\" of type \"PyKeras\" from dataset/weights/TMVA_Higgs_Classification_Keras_Dense.weights.xml.\n",
      "                         : Reading weight file: dataset/weights/TMVA_Higgs_Classification_Keras_Dense.weights.xml\n",
      "                         : Booked classifier \"Keras_Dense\" of type: \"PyKeras\"\n",
      "                         : Booking \"PyGTB\" of type \"PyGTB\" from dataset/weights/TMVA_Higgs_Classification_PyGTB.weights.xml.\n",
      "                         : Reading weight file: dataset/weights/TMVA_Higgs_Classification_PyGTB.weights.xml\n",
      "                         : Booked classifier \"PyGTB\" of type: \"PyGTB\"\n"
     ]
    }
   ],
   "source": [
    "for methodName in methodNames: \n",
    "    weightfile = \"dataset/weights/TMVA_Higgs_Classification_\" + methodName + \".weights.xml\"\n",
    "    name = ROOT.TString(methodName)\n",
    "    reader.BookMVA( name, weightfile );"
   ]
  },
  {
   "cell_type": "markdown",
   "metadata": {},
   "source": [
    "### Book histogram to visualize the response"
   ]
  },
  {
   "cell_type": "code",
   "execution_count": 11,
   "metadata": {},
   "outputs": [],
   "source": [
    "hs = {}\n",
    "hb = {}\n",
    "for name in methodNames:\n",
    "    hname = \"hsig_\" + name\n",
    "    htitle = \"Classifier Output for \" + name \n",
    "    hs[name] = ( ROOT.TH1D(hname,htitle,100,-1,1) )\n",
    "    hname = \"hbkg_\" + name\n",
    "    hb[name] = (ROOT.TH1D(hname,htitle,100,-1,1) )"
   ]
  },
  {
   "cell_type": "markdown",
   "metadata": {},
   "source": [
    "## Iterate on the events from the input TTree "
   ]
  },
  {
   "cell_type": "markdown",
   "metadata": {},
   "source": [
    "### Evaluation of the classifier on the given input events\n",
    "\n",
    "We iterate on the input event in the given TTree. We provide as input first the background tree \n",
    "We return the output results for the various methods in big numpy array [ number of methods x number of events]\n",
    "We also fill an histogram for each method.\n",
    "Note that is important to fill the arrays with the tree entries in order to pass the values to the TMVA::Reader"
   ]
  },
  {
   "cell_type": "code",
   "execution_count": 12,
   "metadata": {},
   "outputs": [],
   "source": [
    "import numpy as np"
   ]
  },
  {
   "cell_type": "code",
   "execution_count": 13,
   "metadata": {},
   "outputs": [
    {
     "name": "stdout",
     "output_type": "stream",
     "text": [
      "Event  0  MVA output for  BDT  = 0.21039218553490774\n",
      "Event  0  MVA output for  DL_CPU  = 0.7356480360031128\n",
      "Event  0  MVA output for  Keras_Dense  = 0.6166186332702637\n",
      "Event  0  MVA output for  PyGTB  = 0.5690690306810953\n",
      "Event  1000  MVA output for  BDT  = -0.2620934520088085\n",
      "Event  1000  MVA output for  DL_CPU  = 0.2213117927312851\n",
      "Event  1000  MVA output for  Keras_Dense  = 0.22586274147033691\n",
      "Event  1000  MVA output for  PyGTB  = 0.09751719269737491\n",
      "Event  2000  MVA output for  BDT  = -0.03808907858196423\n",
      "Event  2000  MVA output for  DL_CPU  = 0.4675716161727905\n",
      "Event  2000  MVA output for  Keras_Dense  = 0.5125445127487183\n",
      "Event  2000  MVA output for  PyGTB  = 0.41451806331988317\n",
      "Event  3000  MVA output for  BDT  = -0.09364800730887152\n",
      "Event  3000  MVA output for  DL_CPU  = 0.3009101152420044\n",
      "Event  3000  MVA output for  Keras_Dense  = 0.3424398601055145\n",
      "Event  3000  MVA output for  PyGTB  = 0.22976675253117573\n",
      "Event  4000  MVA output for  BDT  = 0.1138894176368397\n",
      "Event  4000  MVA output for  DL_CPU  = 0.6817798614501953\n",
      "Event  4000  MVA output for  Keras_Dense  = 0.7324581146240234\n",
      "Event  4000  MVA output for  PyGTB  = 0.6931272687012251\n",
      "Event  5000  MVA output for  BDT  = -0.05381923031109371\n",
      "Event  5000  MVA output for  DL_CPU  = 0.35088542103767395\n",
      "Event  5000  MVA output for  Keras_Dense  = 0.3466698229312897\n",
      "Event  5000  MVA output for  PyGTB  = 0.564982944262326\n",
      "Event  6000  MVA output for  BDT  = -0.040027255620879006\n",
      "Event  6000  MVA output for  DL_CPU  = 0.41095784306526184\n",
      "Event  6000  MVA output for  Keras_Dense  = 0.4259819984436035\n",
      "Event  6000  MVA output for  PyGTB  = 0.5094581744799345\n",
      "Event  7000  MVA output for  BDT  = -0.3272935496885924\n",
      "Event  7000  MVA output for  DL_CPU  = 0.1303377002477646\n",
      "Event  7000  MVA output for  Keras_Dense  = 0.1824127435684204\n",
      "Event  7000  MVA output for  PyGTB  = 0.3019148565498688\n",
      "Event  8000  MVA output for  BDT  = -0.19068196282628028\n",
      "Event  8000  MVA output for  DL_CPU  = 0.13180574774742126\n",
      "Event  8000  MVA output for  Keras_Dense  = 0.11905930191278458\n",
      "Event  8000  MVA output for  PyGTB  = 0.20991380442142415\n",
      "Event  9000  MVA output for  BDT  = 0.05421412151977459\n",
      "Event  9000  MVA output for  DL_CPU  = 0.5236776471138\n",
      "Event  9000  MVA output for  Keras_Dense  = 0.41539308428764343\n",
      "Event  9000  MVA output for  PyGTB  = 0.6527307682413312\n",
      "                         : Load model from file: dataset/weights/TrainedModel_Keras_Dense.h5\n",
      "                         : \n",
      "                         : Loading state file: dataset/weights/PyGTBModel_PyGTB.PyData\n",
      "                         : \n"
     ]
    },
    {
     "name": "stderr",
     "output_type": "stream",
     "text": [
      "2018-10-11 12:56:58.633065: I tensorflow/core/platform/cpu_feature_guard.cc:140] Your CPU supports instructions that this TensorFlow binary was not compiled to use: SSE4.1 SSE4.2 AVX AVX2 FMA\n"
     ]
    }
   ],
   "source": [
    "\n",
    "nevt = inputFile.bkg_tree.GetEntries()\n",
    "\n",
    "vout = np.arange( nevt * len(methodNames), dtype='float').reshape( len(methodNames), nevt)\n",
    "ievt = 0\n",
    "for entry in inputFile.bkg_tree:\n",
    "    m_jj[0] = entry.m_jj\n",
    "    m_jjj[0] = entry.m_jjj\n",
    "    m_lv[0] = entry.m_lv\n",
    "    m_jlv[0] = entry.m_jlv\n",
    "    m_bb[0] = entry.m_bb\n",
    "    m_wbb[0] = entry.m_wbb\n",
    "    m_wwbb[0] = entry.m_wwbb\n",
    "    \n",
    "    i = 0\n",
    "    for methodName in methodNames : \n",
    "        vout[i,ievt] = reader.EvaluateMVA(methodName)\n",
    "        hb[methodName].Fill(vout[i,ievt])        \n",
    "        if (ievt%1000)==0 : print 'Event ',ievt,' MVA output for ',methodName,' =',vout[i,ievt]\n",
    "        i += 1\n",
    "        \n",
    "    ievt += 1\n",
    "#    if (ievt > 20000) : break\n",
    "    "
   ]
  },
  {
   "cell_type": "code",
   "execution_count": 14,
   "metadata": {},
   "outputs": [
    {
     "name": "stdout",
     "output_type": "stream",
     "text": [
      "[[ 0.21039219 -0.00403329 -0.02188199 ... -0.18677575  0.03160411\n",
      "  -0.12415823]\n",
      " [ 0.73564804  0.52895778  0.24309134 ...  0.28412241  0.61763203\n",
      "   0.54623133]\n",
      " [ 0.61661863  0.48451492  0.1513565  ...  0.3160519   0.56118578\n",
      "   0.55829304]\n",
      " [ 0.56906903  0.5279975   0.27764477 ...  0.34419375  0.66150285\n",
      "   0.38698253]]\n"
     ]
    }
   ],
   "source": [
    "print vout\n",
    "bkg_result = vout"
   ]
  },
  {
   "cell_type": "markdown",
   "metadata": {},
   "source": [
    "### Evaluation on the signal  events\n",
    "\n",
    "We evaluate now the classifier on the another tree (e.g. the signal events)\n",
    "\n"
   ]
  },
  {
   "cell_type": "code",
   "execution_count": 15,
   "metadata": {},
   "outputs": [
    {
     "name": "stdout",
     "output_type": "stream",
     "text": [
      "Event  0  MVA output for  BDT  = 0.18497937765338543\n",
      "Event  0  MVA output for  DL_CPU  = 0.7445389032363892\n",
      "Event  0  MVA output for  Keras_Dense  = 0.7020110487937927\n",
      "Event  0  MVA output for  PyGTB  = 0.619568262865785\n",
      "Event  1000  MVA output for  BDT  = 0.26370638847463185\n",
      "Event  1000  MVA output for  DL_CPU  = 0.8954073190689087\n",
      "Event  1000  MVA output for  Keras_Dense  = 0.8958283066749573\n",
      "Event  1000  MVA output for  PyGTB  = 0.8535683226167584\n",
      "Event  2000  MVA output for  BDT  = -0.16140543156270937\n",
      "Event  2000  MVA output for  DL_CPU  = 0.3601306974887848\n",
      "Event  2000  MVA output for  Keras_Dense  = 0.28486645221710205\n",
      "Event  2000  MVA output for  PyGTB  = 0.3820213507732768\n",
      "Event  3000  MVA output for  BDT  = 0.1431417865116632\n",
      "Event  3000  MVA output for  DL_CPU  = 0.7883796691894531\n",
      "Event  3000  MVA output for  Keras_Dense  = 0.8431773781776428\n",
      "Event  3000  MVA output for  PyGTB  = 0.7800667085819792\n",
      "Event  4000  MVA output for  BDT  = 0.18219799775796186\n",
      "Event  4000  MVA output for  DL_CPU  = 0.6334384083747864\n",
      "Event  4000  MVA output for  Keras_Dense  = 0.6345359086990356\n",
      "Event  4000  MVA output for  PyGTB  = 0.5849421419799676\n",
      "Event  5000  MVA output for  BDT  = 0.12315084475554279\n",
      "Event  5000  MVA output for  DL_CPU  = 0.7844609618186951\n",
      "Event  5000  MVA output for  Keras_Dense  = 0.7367834448814392\n",
      "Event  5000  MVA output for  PyGTB  = 0.59046063041666\n",
      "Event  6000  MVA output for  BDT  = 0.07177229735483616\n",
      "Event  6000  MVA output for  DL_CPU  = 0.5007140040397644\n",
      "Event  6000  MVA output for  Keras_Dense  = 0.5886690616607666\n",
      "Event  6000  MVA output for  PyGTB  = 0.5700550448140593\n",
      "Event  7000  MVA output for  BDT  = 0.06895909715886867\n",
      "Event  7000  MVA output for  DL_CPU  = 0.46829789876937866\n",
      "Event  7000  MVA output for  Keras_Dense  = 0.6234989166259766\n",
      "Event  7000  MVA output for  PyGTB  = 0.6646089811225158\n",
      "Event  8000  MVA output for  BDT  = 0.25585407919224856\n",
      "Event  8000  MVA output for  DL_CPU  = 0.8380609154701233\n",
      "Event  8000  MVA output for  Keras_Dense  = 0.8601580262184143\n",
      "Event  8000  MVA output for  PyGTB  = 0.8700762213601966\n",
      "Event  9000  MVA output for  BDT  = 0.3185617782934073\n",
      "Event  9000  MVA output for  DL_CPU  = 0.7518254518508911\n",
      "Event  9000  MVA output for  Keras_Dense  = 0.7824789881706238\n",
      "Event  9000  MVA output for  PyGTB  = 0.8574658570073677\n",
      "[[ 0.18497938  0.10161229 -0.0050746  ...  0.15027828  0.03159564\n",
      "  -0.07993772]\n",
      " [ 0.7445389   0.28572434  0.34173247 ...  0.69994944  0.60734302\n",
      "   0.31785271]\n",
      " [ 0.70201105  0.40491787  0.353387   ...  0.68321854  0.62585169\n",
      "   0.34989035]\n",
      " [ 0.61956826  0.4953433   0.47322646 ...  0.62752743  0.63927935\n",
      "   0.5951095 ]]\n"
     ]
    }
   ],
   "source": [
    "nevt = inputFile.sig_tree.GetEntries()\n",
    "\n",
    "vout = np.arange( nevt * len(methodNames), dtype='float').reshape( len(methodNames), nevt)\n",
    "ievt = 0\n",
    "for entry in inputFile.sig_tree:\n",
    "    m_jj[0] = entry.m_jj\n",
    "    m_jjj[0] = entry.m_jjj\n",
    "    m_lv[0] = entry.m_lv\n",
    "    m_jlv[0] = entry.m_jlv\n",
    "    m_bb[0] = entry.m_bb\n",
    "    m_wbb[0] = entry.m_wbb\n",
    "    m_wwbb[0] = entry.m_wwbb\n",
    "    \n",
    "    i = 0\n",
    "    for methodName in methodNames : \n",
    "        vout[i,ievt] = reader.EvaluateMVA(methodName)\n",
    "        hs[methodName].Fill(vout[i,ievt])\n",
    "        if (ievt%1000)==0 : print 'Event ',ievt,' MVA output for ',methodName,' =',vout[i,ievt]\n",
    "        i += 1\n",
    "        \n",
    "    ievt += 1\n",
    "#    if (ievt > 20000) : break\n",
    "    \n",
    "    \n",
    "sig_result = vout\n",
    "print(sig_result)"
   ]
  },
  {
   "cell_type": "markdown",
   "metadata": {},
   "source": [
    "### Plot Histogram of output variables"
   ]
  },
  {
   "cell_type": "code",
   "execution_count": 16,
   "metadata": {},
   "outputs": [
    {
     "data": {
      "image/png": "[encoded data removed]",
      "text/plain": [
       "<IPython.core.display.Image object>"
      ]
     },
     "metadata": {},
     "output_type": "display_data"
    }
   ],
   "source": [
    "c1 = ROOT.TCanvas()\n",
    "c1.DivideSquare( len(hb))\n",
    "ipad = 0\n",
    "for name in methodNames: \n",
    "    ipad += 1\n",
    "    pad = c1.cd(ipad)\n",
    "    h1 = hb[name]\n",
    "    h1.Draw()\n",
    "    h2 = hs[name]\n",
    "    h2.SetLineColor(ROOT.kRed)\n",
    "    h2.Draw('Same')\n",
    "    pad.BuildLegend()\n",
    "    \n",
    "c1.Draw()"
   ]
  },
  {
   "cell_type": "markdown",
   "metadata": {
    "collapsed": true
   },
   "source": [
    "### Computing ROC Curve\n",
    "\n",
    "We compute here the ROC curve from the vector of the classifier output for signal and background events. \n",
    "The interface for the TMVA::ROCCurve class requires  a std::vector of float types"
   ]
  },
  {
   "cell_type": "code",
   "execution_count": 17,
   "metadata": {},
   "outputs": [
    {
     "name": "stdout",
     "output_type": "stream",
     "text": [
      "BDT  ROC Integral  0.765787885\n",
      "DL_CPU  ROC Integral  0.785205905\n",
      "Keras_Dense  ROC Integral  0.789810875\n",
      "PyGTB  ROC Integral  0.82779374\n"
     ]
    }
   ],
   "source": [
    "i = 0\n",
    "roc = []\n",
    "c2 = ROOT.TCanvas()\n",
    "for name in methodNames: \n",
    "    vsig = ROOT.std.vector('float')(nevt)\n",
    "    vbkg = ROOT.std.vector('float')(nevt)\n",
    "    for ievt in range(0,nevt): \n",
    "        vsig[ievt] = sig_result[i,ievt]\n",
    "        vbkg[ievt] = bkg_result[i,ievt]\n",
    "    roc.append ( TMVA.ROCCurve(vsig,vbkg) )\n",
    "    print name,' ROC Integral ',roc[i].GetROCIntegral()\n",
    "    gr = roc[i].GetROCCurve()\n",
    "    gr.SetLineColor(i+1)\n",
    "    gr.SetTitle(name)\n",
    "    if (i==0): \n",
    "        gr.Draw('AL')\n",
    "    else:\n",
    "        gr.Draw(\"L\")\n",
    "    i += 1\n",
    "    \n"
   ]
  },
  {
   "cell_type": "code",
   "execution_count": 18,
   "metadata": {},
   "outputs": [
    {
     "data": {
      "image/png": "[encoded data removed]",
      "text/plain": [
       "<IPython.core.display.Image object>"
      ]
     },
     "metadata": {},
     "output_type": "display_data"
    }
   ],
   "source": [
    "c2.BuildLegend()\n",
    "c2.Draw()"
   ]
  }
 ],
 "metadata": {
  "kernelspec": {
   "display_name": "Python 2",
   "language": "python",
   "name": "python2"
  },
  "language_info": {
   "codemirror_mode": {
    "name": "ipython",
    "version": 2
   },
   "file_extension": ".py",
   "mimetype": "text/x-python",
   "name": "python",
   "nbconvert_exporter": "python",
   "pygments_lexer": "ipython2",
   "version": "2.7.15"
  }
 },
 "nbformat": 4,
 "nbformat_minor": 1
}
